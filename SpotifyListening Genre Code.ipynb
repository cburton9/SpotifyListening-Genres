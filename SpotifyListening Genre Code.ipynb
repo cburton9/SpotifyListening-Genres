{
 "cells": [
  {
   "cell_type": "code",
   "execution_count": null,
   "id": "1089bf91",
   "metadata": {},
   "outputs": [
    {
     "name": "stdout",
     "output_type": "stream",
     "text": [
      "Processing: Thrift Shop (feat. Wanz)\n"
     ]
    }
   ],
   "source": [
    "import spotipy\n",
    "from spotipy.oauth2 import SpotifyClientCredentials\n",
    "import pandas as pd\n",
    "import time\n",
    "import openpyxl # This is important for reading excel files! \n",
    "\n",
    "\n",
    "# Read the Excel file\n",
    "df = pd.read_excel(r'C:\\Users\\SHAWN\\OneDrive\\Documents\\Tablaeu Datasets\\my_spotify_data\\Spot Data\\Streaming_History_Audio_2013-2018_0.xlsx')\n",
    "\n",
    "# Drop null values in `spotify_track_uri`\n",
    "df.dropna(subset=['spotify_track_uri'], inplace=True)\n",
    "\n",
    "# Drop duplicates in `spotify_track_uri`\n",
    "track_uris = df['spotify_track_uri'].unique()\n",
    "\n",
    "# Initialize Spotipy with your credentials\n",
    "auth_manager = SpotifyClientCredentials(client_id='50f51cebf52c4c42a21cf0b60e16f9b0',\n",
    "                                       client_secret='f1ee0c620a68480b9fb3a8b8ce98de5c')\n",
    "sp = spotipy.Spotify(auth_manager=auth_manager)\n",
    "\n",
    "# Function to get genre for a track\n",
    "def get_genre(track_uri):\n",
    "    # Filter the dataframe to get the track name\n",
    "    track_name_series = df.loc[df['spotify_track_uri'] == track_uri, 'master_metadata_track_name']\n",
    "\n",
    "    if not track_name_series.empty:\n",
    "        track_name = track_name_series.values[0]\n",
    "        print(f\"Processing: {track_name}\")\n",
    "    else:\n",
    "        print(f\"Track not found for URI: {track_uri}\")\n",
    "\n",
    "    try:\n",
    "        track_info = sp.track(track_uri)\n",
    "        artist_uri = track_info['artists'][0]['uri']\n",
    "        artist_info = sp.artist(artist_uri)\n",
    "        return artist_info['genres'][0] if artist_info['genres'] else 'Unknown'\n",
    "    except Exception as e:\n",
    "        print(f\"Error fetching genre for {track_uri}: {e}\")\n",
    "        return 'Unknown'\n",
    "\n",
    "# Get genres for all tracks\n",
    "genres = []\n",
    "for track_uri in track_uris:\n",
    "    genres.append(get_genre(track_uri))\n",
    "    # Add a small delay to avoid rate limiting\n",
    "    time.sleep(0.1)\n",
    "\n",
    "# Create a new dataframe with track URIs and genres\n",
    "genre_df = pd.DataFrame({'spotify_track_uri': track_uris, 'Genre': genres})\n",
    "\n",
    "# Merge the genre dataframe with the original dataframe\n",
    "merged_df = df.merge(genre_df, on='spotify_track_uri', how='left')\n",
    "\n",
    "# Write the merged dataframe to a new csv file\n",
    "merged_df.to_csv('streaming_history_with_genres.csv', index=False)\n",
    "\n",
    "print(\"Script completed. Data saved to streaming_history_with_genres.csv\")"
   ]
  },
  {
   "cell_type": "code",
   "execution_count": null,
   "id": "6612308d",
   "metadata": {},
   "outputs": [],
   "source": []
  }
 ],
 "metadata": {
  "kernelspec": {
   "display_name": "Python 3 (ipykernel)",
   "language": "python",
   "name": "python3"
  },
  "language_info": {
   "codemirror_mode": {
    "name": "ipython",
    "version": 3
   },
   "file_extension": ".py",
   "mimetype": "text/x-python",
   "name": "python",
   "nbconvert_exporter": "python",
   "pygments_lexer": "ipython3",
   "version": "3.11.7"
  }
 },
 "nbformat": 4,
 "nbformat_minor": 5
}
